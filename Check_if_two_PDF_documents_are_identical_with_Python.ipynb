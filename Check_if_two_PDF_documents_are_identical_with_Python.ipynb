{
  "nbformat": 4,
  "nbformat_minor": 0,
  "metadata": {
    "colab": {
      "provenance": []
    },
    "kernelspec": {
      "name": "python3",
      "display_name": "Python 3"
    },
    "language_info": {
      "name": "python"
    }
  },
  "cells": [
    {
      "cell_type": "code",
      "execution_count": 1,
      "metadata": {
        "colab": {
          "base_uri": "https://localhost:8080/"
        },
        "id": "HzPj5Gy1u0Ug",
        "outputId": "87c1ee44-7992-4dba-f256-08b6868872ee"
      },
      "outputs": [
        {
          "output_type": "stream",
          "name": "stdout",
          "text": [
            "====================================\n",
            "        PDF Comparison Tool\n",
            "====================================\n",
            "file1 pathmatching1.pdf\n",
            "file2 pathmatching2.pdf\n",
            "\n",
            "Choose Hash Algorithm:\n",
            "1. SHA-1 (default)\n",
            "2. SHA-256\n",
            "Enter choice [1/2]: 1\n",
            "\n",
            "📂 matching1.pdf | Size: 11790 bytes | Last Modified: Fri Aug 29 16:50:12 2025\n",
            "📂 matching2.pdf | Size: 11790 bytes | Last Modified: Fri Aug 29 16:50:12 2025\n",
            "\n",
            "🔑 SHA1 Hash of matching1.pdf: 271004df8ef4521ddb3f4c74d39ca9bafce3095d\n",
            "🔑 SHA1 Hash of matching2.pdf: 271004df8ef4521ddb3f4c74d39ca9bafce3095d\n",
            "\n",
            "✅ The two PDF files are IDENTICAL.\n",
            "\n",
            "ℹ Note: File sizes are the same.\n"
          ]
        }
      ],
      "source": [
        "import hashlib\n",
        "import os\n",
        "import time\n",
        "\n",
        "\n",
        "def hash_file(filename, algo=\"sha1\"):\n",
        "    \"\"\"Generate hash for a file using the given algorithm (default SHA-1).\"\"\"\n",
        "    if algo == \"sha1\":\n",
        "        h = hashlib.sha1()\n",
        "    elif algo == \"sha256\":\n",
        "        h = hashlib.sha256()\n",
        "    else:\n",
        "        raise ValueError(\"Unsupported hashing algorithm\")\n",
        "\n",
        "    with open(filename, \"rb\") as f:\n",
        "        while chunk := f.read(8192):\n",
        "            h.update(chunk)\n",
        "    return h.hexdigest()\n",
        "\n",
        "\n",
        "def file_info(filepath):\n",
        "    \"\"\"Return basic file info like size and last modified time.\"\"\"\n",
        "    stats = os.stat(filepath)\n",
        "    size = stats.st_size\n",
        "    last_modified = time.ctime(stats.st_mtime)\n",
        "    return size, last_modified\n",
        "\n",
        "\n",
        "def compare_pdfs(file1, file2, algo=\"sha1\"):\n",
        "    \"\"\"Compare two PDFs based on their hashes and metadata.\"\"\"\n",
        "    if not os.path.exists(file1) or not os.path.exists(file2):\n",
        "        print(\"❌ One or both files not found.\")\n",
        "        return\n",
        "\n",
        "    # File info\n",
        "    size1, mod1 = file_info(file1)\n",
        "    size2, mod2 = file_info(file2)\n",
        "\n",
        "    print(f\"\\n📂 {file1} | Size: {size1} bytes | Last Modified: {mod1}\")\n",
        "    print(f\"📂 {file2} | Size: {size2} bytes | Last Modified: {mod2}\\n\")\n",
        "\n",
        "    # Hash comparison\n",
        "    hash1 = hash_file(file1, algo)\n",
        "    hash2 = hash_file(file2, algo)\n",
        "\n",
        "    print(f\"🔑 {algo.upper()} Hash of {file1}: {hash1}\")\n",
        "    print(f\"🔑 {algo.upper()} Hash of {file2}: {hash2}\\n\")\n",
        "\n",
        "    if hash1 == hash2:\n",
        "        print(\"✅ The two PDF files are IDENTICAL.\\n\")\n",
        "    else:\n",
        "        print(\"❌ The two PDF files are DIFFERENT.\\n\")\n",
        "\n",
        "    # Extra check: size match\n",
        "    if size1 == size2:\n",
        "        print(\"ℹ Note: File sizes are the same.\")\n",
        "    else:\n",
        "        print(\"ℹ Note: File sizes are different.\")\n",
        "\n",
        "\n",
        "def menu():\n",
        "    \"\"\"Simple menu interface for the tool.\"\"\"\n",
        "    print(\"====================================\")\n",
        "    print(\"        PDF Comparison Tool\")\n",
        "    print(\"====================================\")\n",
        "    file1 = input(\"file1 path\").strip()\n",
        "    file2 = input(\"file2 path\").strip()\n",
        "\n",
        "    print(\"\\nChoose Hash Algorithm:\")\n",
        "    print(\"1. SHA-1 (default)\")\n",
        "    print(\"2. SHA-256\")\n",
        "    choice = input(\"Enter choice [1/2]: \").strip()\n",
        "\n",
        "    algo = \"sha1\" if choice != \"2\" else \"sha256\"\n",
        "    compare_pdfs(file1, file2, algo)\n",
        "\n",
        "\n",
        "if __name__ == \"__main__\":\n",
        "    menu()"
      ]
    }
  ]
}